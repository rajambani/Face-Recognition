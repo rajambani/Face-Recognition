{
 "cells": [
  {
   "cell_type": "code",
   "execution_count": 1,
   "metadata": {},
   "outputs": [],
   "source": [
    "import pandas as pd\n",
    "import numpy as np\n",
    "from sklearn.neighbors import KNeighborsClassifier\n",
    "from sklearn.model_selection import cross_validate, StratifiedKFold\n",
    "from sklearn.svm import SVC"
   ]
  },
  {
   "cell_type": "code",
   "execution_count": 2,
   "metadata": {},
   "outputs": [],
   "source": [
    "x = pd.read_csv(\"data/X.csv\", sep=' ', header=None, dtype=float)\n",
    "X=x.values"
   ]
  },
  {
   "cell_type": "code",
   "execution_count": 3,
   "metadata": {},
   "outputs": [],
   "source": [
    "y = pd.read_csv(\"data/y_bush_vs_others.csv\", sep=' ', header=None)\n",
    "y_bush = y.values.ravel()\n",
    "y = pd.read_csv(\"data/y_williams_vs_others.csv\", sep=' ', header=None)\n",
    "y_williams = y.values.ravel()"
   ]
  },
  {
   "cell_type": "code",
   "execution_count": 4,
   "metadata": {},
   "outputs": [
    {
     "data": {
      "text/plain": [
       "(13233, 4096)"
      ]
     },
     "execution_count": 4,
     "metadata": {},
     "output_type": "execute_result"
    }
   ],
   "source": [
    "X.shape"
   ]
  },
  {
   "cell_type": "code",
   "execution_count": 5,
   "metadata": {},
   "outputs": [
    {
     "data": {
      "text/plain": [
       "530"
      ]
     },
     "execution_count": 5,
     "metadata": {},
     "output_type": "execute_result"
    }
   ],
   "source": [
    "np.sum(y_bush)"
   ]
  },
  {
   "cell_type": "code",
   "execution_count": 6,
   "metadata": {},
   "outputs": [
    {
     "data": {
      "text/plain": [
       "52"
      ]
     },
     "execution_count": 6,
     "metadata": {},
     "output_type": "execute_result"
    }
   ],
   "source": [
    "np.sum(y_williams)"
   ]
  },
  {
   "cell_type": "code",
   "execution_count": 7,
   "metadata": {},
   "outputs": [
    {
     "data": {
      "text/plain": [
       "(13233,)"
      ]
     },
     "execution_count": 7,
     "metadata": {},
     "output_type": "execute_result"
    }
   ],
   "source": [
    "y_bush.shape"
   ]
  },
  {
   "cell_type": "code",
   "execution_count": 8,
   "metadata": {},
   "outputs": [],
   "source": [
    "# #PCA\n",
    "# from sklearn.decomposition import PCA\n",
    "\n",
    "# pca = PCA(n_components=2)\n",
    "# pca.fit(X)\n",
    "# print(pca.explained_variance_ratio_)\n",
    "# print(pca.singular_values_)"
   ]
  },
  {
   "cell_type": "code",
   "execution_count": 9,
   "metadata": {},
   "outputs": [
    {
     "name": "stdout",
     "output_type": "stream",
     "text": [
      "j 0 currentNeighbor 1\n",
      "test_f1_bush [[0.1625208]\n",
      " [0.       ]\n",
      " [0.       ]]\n",
      "[0.13670886 0.19047619 0.16037736]\n",
      "knn_cv_result {'fit_time': array([0.05345368, 0.06244802, 0.04801178]), 'score_time': array([17.65689874, 17.86530066, 17.31608248]), 'test_precision': array([0.12385321, 0.20125786, 0.13709677]), 'test_recall': array([0.15254237, 0.18079096, 0.19318182]), 'test_f1': array([0.13670886, 0.19047619, 0.16037736])}\n"
     ]
    }
   ],
   "source": [
    "#For Bush knn\n",
    "\n",
    "from sklearn.decomposition import PCA\n",
    "pca = PCA(n_components=64)\n",
    "x_pca = pca.fit_transform(X)\n",
    "\n",
    "#neighbors = [1,3,5]\n",
    "neighbors = [1]\n",
    "fit_time_bush = np.zeros((3,1))\n",
    "score_time_bush = np.zeros((3,1))\n",
    "test_f1_bush = np.zeros((3,1))\n",
    "test_precision_bush = np.zeros((3,1))\n",
    "test_recall_bush = np.zeros((3,1))\n",
    "j = 0\n",
    "\n",
    "for currentNeighbors in neighbors:\n",
    "    #print (currentNeighbors)\n",
    "    knn = KNeighborsClassifier(n_neighbors=currentNeighbors)\n",
    "    knn_cv_result = cross_validate(knn, x_pca, y_bush, cv = StratifiedKFold(n_splits = 3, shuffle = True, random_state = 6925), \n",
    "                                    scoring=('precision', 'recall', 'f1'), return_train_score = False, n_jobs = -1)\n",
    "    print(\"j\", j, \"currentNeighbor\", currentNeighbors)\n",
    "    #print(knn_cv_result)\n",
    "    fit_time_bush[j][0] = np.mean(knn_cv_result['fit_time'])\n",
    "    score_time_bush[j][0] = np.mean(knn_cv_result['score_time'])\n",
    "    test_f1_bush[j][0] = np.mean(knn_cv_result['test_f1'])\n",
    "    test_precision_bush[j][0] = np.mean(knn_cv_result['test_precision'])\n",
    "    test_recall_bush[j][0] = np.mean(knn_cv_result['test_recall'])\n",
    "    \n",
    "    j = j+1\n",
    "\n",
    "print(\"test_f1_bush\", test_f1_bush)\n",
    "print(knn_cv_result['test_f1'])\n",
    "print(\"knn_cv_result\", knn_cv_result)   "
   ]
  },
  {
   "cell_type": "code",
   "execution_count": 10,
   "metadata": {},
   "outputs": [
    {
     "name": "stdout",
     "output_type": "stream",
     "text": [
      "j 0 currentNeighbor 1\n",
      "{'fit_time': array([0.12101722, 0.15621257, 0.16904378]), 'score_time': array([42.4363997 , 42.20268273, 42.31350279]), 'test_precision': array([0.71428571, 0.2       , 0.83333333]), 'test_recall': array([0.27777778, 0.11764706, 0.29411765]), 'test_f1': array([0.4       , 0.14814815, 0.43478261])}\n",
      "[0.4        0.14814815 0.43478261]\n",
      "mean:  [[0.32764359]\n",
      " [0.        ]\n",
      " [0.        ]]\n"
     ]
    }
   ],
   "source": [
    "#For Williams knn\n",
    "from sklearn.decomposition import PCA\n",
    "pca = PCA(n_components=170)\n",
    "x_pca_williams = pca.fit_transform(X)\n",
    "\n",
    "neighbors = [1]\n",
    "fit_time_williams = np.zeros((3,1))\n",
    "score_time_williams = np.zeros((3,1))\n",
    "test_f1_williams = np.zeros((3,1))\n",
    "test_precision_williams = np.zeros((3,1))\n",
    "test_recall_williams = np.zeros((3,1))\n",
    "j = 0\n",
    "\n",
    "for currentNeighbors in neighbors:\n",
    "    #print (currentNeighbors)\n",
    "    knn = KNeighborsClassifier(n_neighbors=currentNeighbors)\n",
    "    knn_cv_result_williams = cross_validate(knn, x_pca_williams, y_williams, cv = StratifiedKFold(n_splits = 3, shuffle = True, random_state = 6925), \n",
    "                                    scoring=('precision', 'recall', 'f1'), return_train_score = False, n_jobs = -1)\n",
    "    print(\"j\", j, \"currentNeighbor\", currentNeighbors)\n",
    "    print(knn_cv_result_williams)\n",
    "    fit_time_williams[j][0] = np.mean(knn_cv_result_williams['fit_time'])\n",
    "    score_time_williams[j][0] = np.mean(knn_cv_result_williams['score_time'])\n",
    "    test_f1_williams[j][0] = np.mean(knn_cv_result_williams['test_f1'])\n",
    "    test_precision_williams[j][0] = np.mean(knn_cv_result_williams['test_precision'])\n",
    "    test_recall_williams[j][0] = np.mean(knn_cv_result_williams['test_recall'])\n",
    "    j = j+1\n",
    "\n",
    "print(knn_cv_result_williams['test_f1'])\n",
    "print(\"mean: \", test_f1_williams)   "
   ]
  },
  {
   "cell_type": "code",
   "execution_count": 11,
   "metadata": {},
   "outputs": [
    {
     "name": "stdout",
     "output_type": "stream",
     "text": [
      "[0.4        0.14814815 0.43478261]\n",
      "mean:  [[0.32764359]\n",
      " [0.        ]\n",
      " [0.        ]]\n"
     ]
    }
   ],
   "source": [
    "print(knn_cv_result_williams['test_f1'])\n",
    "print(\"mean: \", test_f1_williams)   "
   ]
  },
  {
   "cell_type": "code",
   "execution_count": null,
   "metadata": {},
   "outputs": [],
   "source": []
  },
  {
   "cell_type": "code",
   "execution_count": 12,
   "metadata": {},
   "outputs": [
    {
     "name": "stdout",
     "output_type": "stream",
     "text": [
      "[[0.63492469]]\n",
      "{'fit_time': array([50.70814633, 53.26008153, 52.76480365]), 'score_time': array([55.5096271 , 56.740201  , 56.44410992]), 'test_precision': array([0.66666667, 0.75362319, 0.66666667]), 'test_recall': array([0.56497175, 0.58757062, 0.60227273]), 'test_f1': array([0.6116208 , 0.66031746, 0.63283582])}\n"
     ]
    }
   ],
   "source": [
    "#SVC for Bush\n",
    "from sklearn.decomposition import PCA\n",
    "pca = PCA(n_components=3000, random_state = 6925)\n",
    "x_pca_svc_bush = pca.fit_transform(X)\n",
    "\n",
    "\n",
    "#C 1000 gamma 0.001,0.01,0.1\n",
    "svc_fit_time_bush = np.zeros((1,1))\n",
    "svc_score_time_bush = np.zeros((1,1))\n",
    "svc_test_f1_bush = np.zeros((1,1))\n",
    "svc_test_precision_bush = np.zeros((1,1))\n",
    "svc_test_recall_bush = np.zeros((1,1))\n",
    "j = 0\n",
    "\n",
    "svc = SVC(C = 1000, kernel = 'poly', degree = 15,gamma = 0.001,  coef0 = 200)\n",
    "#svc = SVC(C = 1000000, kernel = 'linear')\n",
    "svc_cv_result = cross_validate(svc, x_pca_svc_bush, y_bush, cv = StratifiedKFold(n_splits = 3, shuffle = True, random_state = 6925), \n",
    "                           scoring=('precision', 'recall', 'f1'), return_train_score = False, n_jobs = -1)\n",
    "svc_fit_time_bush[j][0] = np.mean(svc_cv_result['fit_time'])\n",
    "svc_score_time_bush[j][0] = np.mean(svc_cv_result['score_time'])\n",
    "svc_test_f1_bush[j][0] = np.mean(svc_cv_result['test_f1'])\n",
    "svc_test_precision_bush[j][0] = np.mean(svc_cv_result['test_precision'])\n",
    "svc_test_recall_bush[j][0] = np.mean(svc_cv_result['test_recall'])\n",
    "    \n",
    "print(svc_test_f1_bush)\n",
    "print(svc_cv_result)\n"
   ]
  },
  {
   "cell_type": "code",
   "execution_count": 13,
   "metadata": {},
   "outputs": [
    {
     "name": "stdout",
     "output_type": "stream",
     "text": [
      "[[0.51594203]\n",
      " [0.        ]\n",
      " [0.        ]]\n",
      "{'fit_time': array([8.06819105, 7.42490959, 8.09371829]), 'score_time': array([8.83571124, 8.32851028, 8.86786437]), 'test_precision': array([0.75      , 0.66666667, 0.69230769]), 'test_recall': array([0.5       , 0.23529412, 0.52941176]), 'test_f1': array([0.6       , 0.34782609, 0.6       ])}\n"
     ]
    }
   ],
   "source": [
    "## SVC for Williams\n",
    "from sklearn.decomposition import PCA\n",
    "pca = PCA(n_components=2250, random_state = 6925)\n",
    "x_pca_svc_williams = pca.fit_transform(X)\n",
    "\n",
    "#C 1000 gamma 0.001,0.01,0.1\n",
    "svc_fit_time_williams = np.zeros((3,1))\n",
    "svc_score_time_williams = np.zeros((3,1))\n",
    "svc_test_f1_williams = np.zeros((3,1))\n",
    "svc_test_precision_williams = np.zeros((3,1))\n",
    "svc_test_recall_williams = np.zeros((3,1))\n",
    "j = 0\n",
    "svc_test_f1_williams[0][0] = 0\n",
    "\n",
    "svc = SVC(C = 1, kernel = 'sigmoid', gamma = 0.000244141)\n",
    "#svc = SVC(C = 100, kernel = 'linear', degree = 2, gamma = 0.001)\n",
    "svc = SVC(C = 1000, kernel = 'poly', degree = 15,gamma = 0.001,  coef0 = 200)\n",
    "svc_cv_result_williams = cross_validate(svc, x_pca_svc_williams, y_williams, cv = StratifiedKFold(n_splits = 3, shuffle = True, random_state = 6925), \n",
    "                           scoring=('precision', 'recall', 'f1'), return_train_score = False, n_jobs = -1)\n",
    "svc_fit_time_williams[j][0] = np.mean(svc_cv_result_williams['fit_time'])\n",
    "svc_score_time_williams[j][0] = np.mean(svc_cv_result_williams['score_time'])\n",
    "svc_test_f1_williams[j][0] = np.mean(svc_cv_result_williams['test_f1'])\n",
    "svc_test_precision_williams[j][0] = np.mean(svc_cv_result_williams['test_precision'])\n",
    "svc_test_recall_williams[j][0] = np.mean(svc_cv_result_williams['test_recall'])\n",
    "    \n",
    "print(svc_test_f1_williams)\n",
    "print(svc_cv_result_williams)\n"
   ]
  },
  {
   "cell_type": "code",
   "execution_count": null,
   "metadata": {},
   "outputs": [],
   "source": []
  },
  {
   "cell_type": "code",
   "execution_count": null,
   "metadata": {},
   "outputs": [],
   "source": []
  },
  {
   "cell_type": "code",
   "execution_count": 14,
   "metadata": {},
   "outputs": [],
   "source": [
    "import pickle\n",
    "\n",
    "# print(\"test_f1_bush: \", test_f1_bush)\n",
    "# print(\"test_f1_williams: \", test_f1_williams)\n",
    "# print(\"svc_test_f1_bush: \", svc_test_f1_bush[0][0])\n",
    "# print(\"svc_test_f1_williams: \", svc_test_f1_williams[0][0])\n",
    "\n",
    "\n",
    "# Once you run the code, it will generate a 'results.pkl' file. Do not modify the following code.\n",
    "#bush.pkl\n",
    "# test_f1_bush = np.zeros((3,1))\n",
    "# svc_test_f1_bush = np.zeros((3,1))\n",
    "# test_f1_williams = np.zeros((3,1))\n",
    "# svc_test_f1_williams = np.zeros((3,1))\n",
    "\n",
    "# test_f1_bush[0][0] = 0.14676116\n",
    "# test_f1_bush[1][0] = 0.07976078\n",
    "# test_f1_bush[2][0] = 0.039048693\n",
    "# svc_test_f1_bush[0][0] = 0.626287073\n",
    "\n",
    "bush = list()\n",
    "bush.append(test_f1_bush[0][0])\n",
    "# bush.append(test_f1_bush[1][0])\n",
    "# bush.append(test_f1_bush[2][0])\n",
    "bush.append(svc_test_f1_bush[0][0])\n",
    "\n",
    "pickle.dump((bush), open('bush.pkl', 'wb'))\n",
    "\n",
    "#williams.pkl\n",
    "# test_f1_williams[0][0] = 0.230716143\n",
    "# test_f1_williams[1][0] = 0.0\n",
    "# test_f1_williams[2][0] = 0.0\n",
    "# svc_test_f1_williams[0][0] = 0.482608697\n",
    "\n",
    "williams = list()\n",
    "williams.append(test_f1_williams[0][0])\n",
    "# williams.append(test_f1_williams[1][0])\n",
    "# williams.append(test_f1_williams[2][0])\n",
    "williams.append(svc_test_f1_williams[0][0])\n",
    "\n",
    "pickle.dump((williams), open('williams.pkl', 'wb'))\n"
   ]
  },
  {
   "cell_type": "code",
   "execution_count": 15,
   "metadata": {},
   "outputs": [
    {
     "name": "stdout",
     "output_type": "stream",
     "text": [
      "[0.1625208032420834, 0.6349246921066721]\n",
      "[0.3276435856146001, 0.5159420289855072]\n"
     ]
    }
   ],
   "source": [
    "xs = pickle.load(open('bush.pkl', 'rb'))\n",
    "print(xs)\n",
    "\n",
    "xs = pickle.load(open('williams.pkl', 'rb'))\n",
    "print(xs)"
   ]
  }
 ],
 "metadata": {
  "kernelspec": {
   "display_name": "Python 3",
   "language": "python",
   "name": "python3"
  },
  "language_info": {
   "codemirror_mode": {
    "name": "ipython",
    "version": 3
   },
   "file_extension": ".py",
   "mimetype": "text/x-python",
   "name": "python",
   "nbconvert_exporter": "python",
   "pygments_lexer": "ipython3",
   "version": "3.6.4"
  }
 },
 "nbformat": 4,
 "nbformat_minor": 2
}
