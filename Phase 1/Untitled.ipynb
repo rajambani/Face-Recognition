{
 "cells": [
  {
   "cell_type": "code",
   "execution_count": 4,
   "metadata": {},
   "outputs": [],
   "source": [
    "import pandas as pd\n",
    "import numpy as np\n",
    "from sklearn.neighbors import KNeighborsClassifier\n",
    "from sklearn.model_selection import cross_validate, StratifiedKFold\n",
    "from sklearn.svm import SVC"
   ]
  },
  {
   "cell_type": "code",
   "execution_count": null,
   "metadata": {},
   "outputs": [],
   "source": [
    "x = pd.read_csv(\"data/X.csv\", sep=' ', header=None, dtype=float)\n",
    "X=x.values"
   ]
  },
  {
   "cell_type": "code",
   "execution_count": null,
   "metadata": {},
   "outputs": [],
   "source": [
    "y = pd.read_csv(\"data/y_bush_vs_others.csv\", sep=' ', header=None)\n",
    "y_bush = y.values.ravel()\n",
    "y = pd.read_csv(\"data/y_williams_vs_others.csv\", sep=' ', header=None)\n",
    "y_williams = y.values.ravel()"
   ]
  },
  {
   "cell_type": "code",
   "execution_count": null,
   "metadata": {},
   "outputs": [],
   "source": [
    "X.shape"
   ]
  },
  {
   "cell_type": "code",
   "execution_count": null,
   "metadata": {},
   "outputs": [],
   "source": [
    "np.sum(y_bush)"
   ]
  },
  {
   "cell_type": "code",
   "execution_count": null,
   "metadata": {},
   "outputs": [],
   "source": [
    "np.sum(y_williams)"
   ]
  },
  {
   "cell_type": "code",
   "execution_count": null,
   "metadata": {},
   "outputs": [],
   "source": [
    "y_bush.shape"
   ]
  },
  {
   "cell_type": "code",
   "execution_count": null,
   "metadata": {},
   "outputs": [],
   "source": [
    "#For Bush knn\n",
    "\n",
    "neighbors = [1,3,5]\n",
    "fit_time_bush = np.zeros((3,1))\n",
    "score_time_bush = np.zeros((3,1))\n",
    "test_f1_bush = np.zeros((3,1))\n",
    "test_precision_bush = np.zeros((3,1))\n",
    "test_recall_bush = np.zeros((3,1))\n",
    "j = 0\n",
    "\n",
    "for currentNeighbors in neighbors:\n",
    "    #print (currentNeighbors)\n",
    "    knn = KNeighborsClassifier(n_neighbors=currentNeighbors)\n",
    "    knn_cv_result = cross_validate(knn, X, y_bush, cv = StratifiedKFold(n_splits = 3, shuffle = True, random_state = 6925), \n",
    "                                    scoring=('precision', 'recall', 'f1'), return_train_score = False, n_jobs = -1)\n",
    "    print(\"j\", j, \"currentNeighbor\", currentNeighbors)\n",
    "    print(knn_cv_result)\n",
    "    fit_time_bush[j][0] = np.mean(knn_cv_result['fit_time'])\n",
    "    score_time_bush[j][0] = np.mean(knn_cv_result['score_time'])\n",
    "    test_f1_bush[j][0] = np.mean(knn_cv_result['test_f1'])\n",
    "    test_precision_bush[j][0] = np.mean(knn_cv_result['test_precision'])\n",
    "    test_recall_bush[j][0] = np.mean(knn_cv_result['test_recall'])\n",
    "    \n",
    "    j = j+1\n",
    "\n",
    "#print(knn_cv_result[fit_time])\n",
    "#print(\"knn_cv_result\", knn_cv_result)   "
   ]
  },
  {
   "cell_type": "code",
   "execution_count": null,
   "metadata": {},
   "outputs": [],
   "source": [
    "#For Williams knn\n",
    "\n",
    "neighbors = [1,3,5]\n",
    "fit_time_williams = np.zeros((3,1))\n",
    "score_time_williams = np.zeros((3,1))\n",
    "test_f1_williams = np.zeros((3,1))\n",
    "test_precision_williams = np.zeros((3,1))\n",
    "test_recall_williams = np.zeros((3,1))\n",
    "j = 0\n",
    "\n",
    "for currentNeighbors in neighbors:\n",
    "    #print (currentNeighbors)\n",
    "    knn = KNeighborsClassifier(n_neighbors=currentNeighbors)\n",
    "    knn_cv_result_williams = cross_validate(knn, X, y_williams, cv = StratifiedKFold(n_splits = 3, shuffle = True, random_state = 6925), \n",
    "                                    scoring=('precision', 'recall', 'f1'), return_train_score = False, n_jobs = -1)\n",
    "    print(\"j\", j, \"currentNeighbor\", currentNeighbors)\n",
    "    print(knn_cv_result_williams)\n",
    "    fit_time_williams[j][0] = np.mean(knn_cv_result_williams['fit_time'])\n",
    "    score_time_williams[j][0] = np.mean(knn_cv_result_williams['score_time'])\n",
    "    test_f1_williams[j][0] = np.mean(knn_cv_result_williams['test_f1'])\n",
    "    test_precision_williams[j][0] = np.mean(knn_cv_result_williams['test_precision'])\n",
    "    test_recall_williams[j][0] = np.mean(knn_cv_result_williams['test_recall'])\n",
    "    j = j+1\n",
    "\n",
    "#print(knn_cv_result_williams[fit_time])\n",
    "#print(\"mean: \", test_f1_williams)   "
   ]
  },
  {
   "cell_type": "code",
   "execution_count": null,
   "metadata": {},
   "outputs": [],
   "source": [
    "print(knn_cv_result_williams['test_f1'])\n",
    "print(\"mean: \", test_f1_williams)   "
   ]
  },
  {
   "cell_type": "code",
   "execution_count": null,
   "metadata": {},
   "outputs": [],
   "source": []
  },
  {
   "cell_type": "code",
   "execution_count": null,
   "metadata": {},
   "outputs": [],
   "source": [
    "#SVC for Bush\n",
    "\n",
    "#C 1000 gamma 0.001,0.01,0.1\n",
    "svc_fit_time_bush = np.zeros((3,1))\n",
    "svc_score_time_bush = np.zeros((3,1))\n",
    "svc_test_f1_bush = np.zeros((3,1))\n",
    "svc_test_precision_bush = np.zeros((3,1))\n",
    "svc_test_recall_bush = np.zeros((3,1))\n",
    "j = 0\n",
    "\n",
    "#svc = SVC(C = 1000, kernel = 'poly', degree = 15,gamma = 0.001,  coef0 = 200)\n",
    "svc = SVC(C = 1000000, kernel = 'linear')\n",
    "svc_cv_result = cross_validate(svc, X, y_bush, cv = StratifiedKFold(n_splits = 3, shuffle = True, random_state = 6925), \n",
    "                           scoring=('precision', 'recall', 'f1'), return_train_score = False, n_jobs = -1)\n",
    "svc_fit_time_bush[j][0] = np.mean(svc_cv_result['fit_time'])\n",
    "svc_score_time_bush[j][0] = np.mean(svc_cv_result['score_time'])\n",
    "svc_test_f1_bush[j][0] = np.mean(svc_cv_result['test_f1'])\n",
    "svc_test_precision_bush[j][0] = np.mean(svc_cv_result['test_precision'])\n",
    "svc_test_recall_bush[j][0] = np.mean(svc_cv_result['test_recall'])\n",
    "    \n",
    "print(svc_test_f1_bush)\n",
    "print(svc_cv_result)\n"
   ]
  },
  {
   "cell_type": "code",
   "execution_count": null,
   "metadata": {},
   "outputs": [],
   "source": [
    "#SVC for Williams\n",
    "\n",
    "#C 1000 gamma 0.001,0.01,0.1\n",
    "svc_fit_time_williams = np.zeros((3,1))\n",
    "svc_score_time_williams = np.zeros((3,1))\n",
    "svc_test_f1_williams = np.zeros((3,1))\n",
    "svc_test_precision_williams = np.zeros((3,1))\n",
    "svc_test_recall_williams = np.zeros((3,1))\n",
    "j = 0\n",
    "svc_test_f1_williams[0][0] = 0\n",
    "\n",
    "#svc = SVC(C = 1, kernel = 'sigmoid', gamma = 0.000244141)\n",
    "svc = SVC(C = 100, kernel = 'linear', degree = 2, gamma = 0.001)\n",
    "svc_cv_result = cross_validate(svc, X, y_williams, cv = StratifiedKFold(n_splits = 3, shuffle = True, random_state = 6925), \n",
    "                           scoring=('precision', 'recall', 'f1'), return_train_score = False, n_jobs = -1)\n",
    "svc_fit_time_williams[j][0] = np.mean(svc_cv_result['fit_time'])\n",
    "svc_score_time_williams[j][0] = np.mean(svc_cv_result['score_time'])\n",
    "svc_test_f1_williams[j][0] = np.mean(svc_cv_result['test_f1'])\n",
    "svc_test_precision_williams[j][0] = np.mean(svc_cv_result['test_precision'])\n",
    "svc_test_recall_williams[j][0] = np.mean(svc_cv_result['test_recall'])\n",
    "    \n",
    "print(svc_test_f1_williams)\n",
    "print(svc_cv_result)\n"
   ]
  },
  {
   "cell_type": "code",
   "execution_count": null,
   "metadata": {},
   "outputs": [],
   "source": []
  },
  {
   "cell_type": "code",
   "execution_count": null,
   "metadata": {},
   "outputs": [],
   "source": []
  },
  {
   "cell_type": "code",
   "execution_count": 5,
   "metadata": {},
   "outputs": [],
   "source": [
    "import pickle\n",
    "\n",
    "# print(\"test_f1_bush: \", test_f1_bush)\n",
    "# print(\"test_f1_williams: \", test_f1_williams)\n",
    "# print(\"svc_test_f1_bush: \", svc_test_f1_bush[0][0])\n",
    "# print(\"svc_test_f1_williams: \", svc_test_f1_williams[0][0])\n",
    "\n",
    "\n",
    "# Once you run the code, it will generate a 'results.pkl' file. Do not modify the following code.\n",
    "#bush.pkl\n",
    "test_f1_bush = np.zeros((3,1))\n",
    "svc_test_f1_bush = np.zeros((3,1))\n",
    "test_f1_williams = np.zeros((3,1))\n",
    "svc_test_f1_williams = np.zeros((3,1))\n",
    "\n",
    "test_f1_bush[0][0] = 0.14676116\n",
    "test_f1_bush[1][0] = 0.07976078\n",
    "test_f1_bush[2][0] = 0.039048693\n",
    "svc_test_f1_bush[0][0] = 0.626287073\n",
    "\n",
    "bush = list()\n",
    "bush.append(test_f1_bush[0][0])\n",
    "bush.append(test_f1_bush[1][0])\n",
    "bush.append(test_f1_bush[2][0])\n",
    "bush.append(svc_test_f1_bush[0][0])\n",
    "\n",
    "pickle.dump((bush), open('bush.pkl', 'wb'))\n",
    "\n",
    "#williams.pkl\n",
    "test_f1_williams[0][0] = 0.230716143\n",
    "test_f1_williams[1][0] = 0.0\n",
    "test_f1_williams[2][0] = 0.0\n",
    "svc_test_f1_williams[0][0] = 0.482608697\n",
    "\n",
    "williams = list()\n",
    "williams.append(test_f1_williams[0][0])\n",
    "williams.append(test_f1_williams[1][0])\n",
    "williams.append(test_f1_williams[2][0])\n",
    "williams.append(svc_test_f1_williams[0][0])\n",
    "\n",
    "pickle.dump((williams), open('williams.pkl', 'wb'))\n"
   ]
  },
  {
   "cell_type": "code",
   "execution_count": 6,
   "metadata": {},
   "outputs": [
    {
     "name": "stdout",
     "output_type": "stream",
     "text": [
      "[0.14676116, 0.07976078, 0.039048693, 0.626287073]\n",
      "[0.230716143, 0.0, 0.0, 0.482608697]\n"
     ]
    }
   ],
   "source": [
    "xs = pickle.load(open('bush.pkl', 'rb'))\n",
    "print(xs)\n",
    "\n",
    "xs = pickle.load(open('williams.pkl', 'rb'))\n",
    "print(xs)"
   ]
  }
 ],
 "metadata": {
  "kernelspec": {
   "display_name": "Python 3",
   "language": "python",
   "name": "python3"
  },
  "language_info": {
   "codemirror_mode": {
    "name": "ipython",
    "version": 3
   },
   "file_extension": ".py",
   "mimetype": "text/x-python",
   "name": "python",
   "nbconvert_exporter": "python",
   "pygments_lexer": "ipython3",
   "version": "3.6.4"
  }
 },
 "nbformat": 4,
 "nbformat_minor": 2
}
